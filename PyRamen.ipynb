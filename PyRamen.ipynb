{
 "cells": [
  {
   "cell_type": "code",
   "execution_count": 5,
   "metadata": {},
   "outputs": [],
   "source": [
    "import pandas as pd\n",
    "from pathlib import Path\n",
    "\n"
   ]
  },
  {
   "cell_type": "code",
   "execution_count": 7,
   "metadata": {},
   "outputs": [
    {
     "data": {
      "text/html": [
       "<div>\n",
       "<style scoped>\n",
       "    .dataframe tbody tr th:only-of-type {\n",
       "        vertical-align: middle;\n",
       "    }\n",
       "\n",
       "    .dataframe tbody tr th {\n",
       "        vertical-align: top;\n",
       "    }\n",
       "\n",
       "    .dataframe thead th {\n",
       "        text-align: right;\n",
       "    }\n",
       "</style>\n",
       "<table border=\"1\" class=\"dataframe\">\n",
       "  <thead>\n",
       "    <tr style=\"text-align: right;\">\n",
       "      <th></th>\n",
       "      <th>Line_Item_ID</th>\n",
       "      <th>Date</th>\n",
       "      <th>Credit_Card_Number</th>\n",
       "      <th>Quantity</th>\n",
       "      <th>Menu_Item</th>\n",
       "    </tr>\n",
       "  </thead>\n",
       "  <tbody>\n",
       "    <tr>\n",
       "      <th>74119</th>\n",
       "      <td>74120</td>\n",
       "      <td>12-31-2018</td>\n",
       "      <td>1697055332228941</td>\n",
       "      <td>4</td>\n",
       "      <td>tonkotsu ramen</td>\n",
       "    </tr>\n",
       "    <tr>\n",
       "      <th>74120</th>\n",
       "      <td>74121</td>\n",
       "      <td>12-31-2018</td>\n",
       "      <td>6800009643487106</td>\n",
       "      <td>1</td>\n",
       "      <td>vegetarian spicy miso</td>\n",
       "    </tr>\n",
       "    <tr>\n",
       "      <th>74121</th>\n",
       "      <td>74122</td>\n",
       "      <td>12-31-2018</td>\n",
       "      <td>6800009643487106</td>\n",
       "      <td>1</td>\n",
       "      <td>vegetarian spicy miso</td>\n",
       "    </tr>\n",
       "    <tr>\n",
       "      <th>74122</th>\n",
       "      <td>74123</td>\n",
       "      <td>12-31-2018</td>\n",
       "      <td>5981057609583653</td>\n",
       "      <td>2</td>\n",
       "      <td>spicy miso ramen</td>\n",
       "    </tr>\n",
       "    <tr>\n",
       "      <th>74123</th>\n",
       "      <td>74124</td>\n",
       "      <td>12-31-2018</td>\n",
       "      <td>5981057609583653</td>\n",
       "      <td>2</td>\n",
       "      <td>spicy miso ramen</td>\n",
       "    </tr>\n",
       "  </tbody>\n",
       "</table>\n",
       "</div>"
      ],
      "text/plain": [
       "       Line_Item_ID        Date  Credit_Card_Number  Quantity  \\\n",
       "74119         74120  12-31-2018    1697055332228941         4   \n",
       "74120         74121  12-31-2018    6800009643487106         1   \n",
       "74121         74122  12-31-2018    6800009643487106         1   \n",
       "74122         74123  12-31-2018    5981057609583653         2   \n",
       "74123         74124  12-31-2018    5981057609583653         2   \n",
       "\n",
       "                   Menu_Item  \n",
       "74119         tonkotsu ramen  \n",
       "74120  vegetarian spicy miso  \n",
       "74121  vegetarian spicy miso  \n",
       "74122       spicy miso ramen  \n",
       "74123       spicy miso ramen  "
      ]
     },
     "execution_count": 7,
     "metadata": {},
     "output_type": "execute_result"
    }
   ],
   "source": [
    "menu_df = pd.read_csv(\"menu_data.csv\")\n",
    "menu_df.head()\n",
    "menu_df.sample()\n",
    "menu_df.tail()\n",
    "\n",
    "sales_df=pd.read_csv(\"sales_data.csv\")\n",
    "sales_df.head()\n",
    "sales_df.tail()\n"
   ]
  },
  {
   "cell_type": "code",
   "execution_count": 8,
   "metadata": {},
   "outputs": [],
   "source": [
    "import pandas as pd\n",
    "from pathlib import Path\n"
   ]
  },
  {
   "cell_type": "code",
   "execution_count": 10,
   "metadata": {},
   "outputs": [],
   "source": [
    "file_path=Path(\"sales_data.csv\")\n",
    "sales_list=[]\n",
    "line_num=[]\n"
   ]
  },
  {
   "cell_type": "code",
   "execution_count": 11,
   "metadata": {},
   "outputs": [
    {
     "data": {
      "text/plain": [
       "Line_Item_ID                     74124\n",
       "Credit_Card_Number    5981057609583653\n",
       "Quantity                             2\n",
       "Menu_Item             spicy miso ramen\n",
       "Name: 2018-12-31 00:00:00, dtype: object"
      ]
     },
     "execution_count": 11,
     "metadata": {},
     "output_type": "execute_result"
    }
   ],
   "source": [
    "sales_df=pd.read_csv(file_path, index_col=\"Date\", infer_datetime_format=True, parse_dates=True)\n",
    "sales_df.head()\n",
    "sales_df[\"Quantity\"]=sales_df[\"Quantity\"].astype('int') \n",
    "sales_df[\"Quantity\"].dtype\n",
    "sales_df.describe(include='all')\n",
    "\n",
    "#Select the first-10 rows of the sales dataframe\n",
    "\n",
    "sales_df.iloc[0:10]\n",
    "sales_df.iloc[-1]"
   ]
  },
  {
   "cell_type": "code",
   "execution_count": null,
   "metadata": {},
   "outputs": [],
   "source": []
  }
 ],
 "metadata": {
  "kernelspec": {
   "display_name": "Python 3",
   "language": "python",
   "name": "python3"
  },
  "language_info": {
   "codemirror_mode": {
    "name": "ipython",
    "version": 3
   },
   "file_extension": ".py",
   "mimetype": "text/x-python",
   "name": "python",
   "nbconvert_exporter": "python",
   "pygments_lexer": "ipython3",
   "version": "3.7.4"
  }
 },
 "nbformat": 4,
 "nbformat_minor": 4
}
